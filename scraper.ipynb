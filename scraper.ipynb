{
  "nbformat": 4,
  "nbformat_minor": 0,
  "metadata": {
    "colab": {
      "name": "hw1_starter.ipynb",
      "provenance": [],
      "collapsed_sections": [],
      "include_colab_link": true
    },
    "kernelspec": {
      "name": "python3",
      "display_name": "Python 3"
    }
  },
  "cells": [
    {
      "cell_type": "markdown",
      "metadata": {
        "id": "view-in-github",
        "colab_type": "text"
      },
      "source": [
        "<a href=\"https://colab.research.google.com/github/reesecake/IMDB_scraper/blob/main/scraper.ipynb\" target=\"_parent\"><img src=\"https://colab.research.google.com/assets/colab-badge.svg\" alt=\"Open In Colab\"/></a>"
      ]
    },
    {
      "cell_type": "markdown",
      "metadata": {
        "id": "MKUGHJ0mSyU9"
      },
      "source": [
        "Reese Lam\n",
        "915042690"
      ]
    },
    {
      "cell_type": "markdown",
      "metadata": {
        "id": "hkOoVdQtwHMs"
      },
      "source": [
        "# 1. IMDB Scraping"
      ]
    },
    {
      "cell_type": "code",
      "metadata": {
        "id": "81BEDs7ATSSF"
      },
      "source": [
        "from bs4 import BeautifulSoup\n",
        "import requests\n",
        "import pandas as pd"
      ],
      "execution_count": null,
      "outputs": []
    },
    {
      "cell_type": "markdown",
      "metadata": {
        "id": "mne8RV6vv42Y"
      },
      "source": [
        "Functions for retrieving movie data"
      ]
    },
    {
      "cell_type": "code",
      "metadata": {
        "id": "SQ863b_Sd-6h"
      },
      "source": [
        "def get_movie_name(row):\n",
        "  row = row.a\n",
        "  if not row:\n",
        "    return None\n",
        "  return row.text"
      ],
      "execution_count": null,
      "outputs": []
    },
    {
      "cell_type": "code",
      "metadata": {
        "id": "1iLD4rzSnj2X"
      },
      "source": [
        "def get_movie_year(row):\n",
        "  row = row.find('span', class_='lister-item-year text-muted unbold')\n",
        "  if not row:\n",
        "    return None\n",
        "  return int(row.text[-5:].replace(')', ''))"
      ],
      "execution_count": null,
      "outputs": []
    },
    {
      "cell_type": "code",
      "metadata": {
        "id": "6yVjYjXZB3og"
      },
      "source": [
        "def get_movie_rating(rowRaw):\n",
        "  rowRaw = rowRaw.find('span', class_='ipl-rating-star__rating').text\n",
        "  if not rowRaw:\n",
        "    return None\n",
        "  return float(rowRaw)"
      ],
      "execution_count": null,
      "outputs": []
    },
    {
      "cell_type": "code",
      "metadata": {
        "id": "y0Y2ugDqowjB"
      },
      "source": [
        "def get_movie_runtime(detailRow):\n",
        "  detailRow = detailRow.find('span', class_='runtime')\n",
        "  if not detailRow:\n",
        "    return None\n",
        "  return int(detailRow.text[:-4])"
      ],
      "execution_count": null,
      "outputs": []
    },
    {
      "cell_type": "code",
      "metadata": {
        "id": "vySTByGws_H-"
      },
      "source": [
        "def get_movie_votes(alltext_muted):\n",
        "  alltext_muted = alltext_muted.find_all('span')[1]\n",
        "  if not alltext_muted:\n",
        "    return None\n",
        "  return int(alltext_muted.text.replace(',', ''))"
      ],
      "execution_count": null,
      "outputs": []
    },
    {
      "cell_type": "code",
      "metadata": {
        "id": "b_mGVBeUqhgV"
      },
      "source": [
        "def get_movie_genre(detailRow):\n",
        "  detailRow = detailRow.find('span', class_='genre')\n",
        "  if not detailRow:\n",
        "    return None\n",
        "  return (detailRow.text.split()[0]).replace(',', '')"
      ],
      "execution_count": null,
      "outputs": []
    },
    {
      "cell_type": "code",
      "metadata": {
        "id": "AH3aJv0Jr1xw"
      },
      "source": [
        "def get_movie_director(alltext_muted):\n",
        "  alltext_muted = alltext_muted.a\n",
        "  if not alltext_muted:\n",
        "    return None\n",
        "  return alltext_muted.text.split()[0]"
      ],
      "execution_count": null,
      "outputs": []
    },
    {
      "cell_type": "markdown",
      "metadata": {
        "id": "SM1Dw8-asdI4"
      },
      "source": [
        "Write a function that takes a BeautifulSoup table of movies and parses out the movie attributes."
      ]
    },
    {
      "cell_type": "code",
      "metadata": {
        "id": "j5QcaDcCsCMW"
      },
      "source": [
        "def getMovieResultsFromPage(table, movies):\n",
        "  for rowRaw in table.find_all('div', class_='lister-item mode-detail'):\n",
        "    row = rowRaw.find('h3', class_='lister-item-header')\n",
        "    # continue the function here\n",
        "    #\n",
        "    movies['Name'].append(get_movie_name(row))\n",
        "    movies['Rating'].append(get_movie_rating(rowRaw))\n",
        "    movies['Year'].append(get_movie_year(row))\n",
        "\n",
        "    detailRow = rowRaw.find('p', class_='text-muted text-small')\n",
        "    movies['RunTime'].append(get_movie_runtime(detailRow))\n",
        "    movies['Genre'].append(get_movie_genre(detailRow))\n",
        "\n",
        "    alltext_muted = rowRaw.find_all('p', class_='text-muted text-small')\n",
        "    # use second element because first is detailRow\n",
        "    movies['Director'].append(get_movie_director(alltext_muted[1]))\n",
        "    movies['Votes'].append(get_movie_votes(alltext_muted[2]))"
      ],
      "execution_count": null,
      "outputs": []
    },
    {
      "cell_type": "markdown",
      "metadata": {
        "id": "oHFPsdv7s1KL"
      },
      "source": [
        "You'll need somewhere to store the movies"
      ]
    },
    {
      "cell_type": "code",
      "metadata": {
        "id": "i9FkUWwjtJ-M"
      },
      "source": [
        "# initialize movie map\n",
        "movies = {'Name':[],\n",
        "          'Rating':[],\n",
        "          'Year':[],\n",
        "          'RunTime':[],\n",
        "          'Votes':[],\n",
        "          'Genre':[],\n",
        "          'Director':[]}"
      ],
      "execution_count": null,
      "outputs": []
    },
    {
      "cell_type": "markdown",
      "metadata": {
        "id": "yfWF1Ixotz5j"
      },
      "source": [
        "Next, process the html pages using BeautifulSoup, and create a table with all movies."
      ]
    },
    {
      "cell_type": "code",
      "metadata": {
        "id": "s_NGB2Bbp-tp",
        "colab": {
          "base_uri": "https://localhost:8080/",
          "height": 71
        },
        "outputId": "517de755-7181-42d8-834f-d5c2f86e4f11"
      },
      "source": [
        "source = requests.get('https://www.imdb.com/list/ls068082370/').text\n",
        "soup = BeautifulSoup(source, 'lxml')\n",
        "table = soup.find('div', class_='lister-list')\n",
        "# get movie data\n",
        "getMovieResultsFromPage(table, movies)\n",
        "# continue scraping until no more movies \n",
        "#\n",
        "\n",
        "# navigate to second page\n",
        "nextPage = soup.find('a', class_='flat-button lister-page-next next-page')['href']\n",
        "sourceTwo = requests.get('https://www.imdb.com' + nextPage).text\n",
        "soupTwo = BeautifulSoup(sourceTwo, 'lxml')\n",
        "tableTwo = soupTwo.find('div', class_='lister-list')\n",
        "getMovieResultsFromPage(tableTwo, movies)\n",
        "\n",
        "# navigate to third page\n",
        "lastPage = soupTwo.find('a', class_='flat-button lister-page-next next-page')['href']\n",
        "sourceThree = requests.get('https://www.imdb.com' + lastPage).text\n",
        "soupThree = BeautifulSoup(sourceThree, 'lxml')\n",
        "tableThree = soupThree.find('div', class_='lister-list')\n",
        "getMovieResultsFromPage(tableThree, movies)\n",
        "\n",
        "print(movies)\n",
        "len(movies['Name'])"
      ],
      "execution_count": null,
      "outputs": [
        {
          "output_type": "stream",
          "text": [
            "{'Name': ['The Shawshank Redemption', 'The Godfather', 'The Dark Knight', 'The Godfather: Part II', 'Pulp Fiction', \"Schindler's List\", 'The Lord of the Rings: The Return of the King', '12 Angry Men', 'The Good, the Bad and the Ugly', 'Forrest Gump', 'Inception', 'The Lord of the Rings: The Fellowship of the Ring', 'Fight Club', 'Dangal', 'Star Wars: Episode V - The Empire Strikes Back', 'Star Wars: Episode IV - A New Hope', 'The Matrix', 'Goodfellas', \"One Flew Over the Cuckoo's Nest\", 'City of God', 'The Lord of the Rings: The Two Towers', 'Seven Samurai', 'Interstellar', 'Your Name.', 'The Silence of the Lambs', 'Léon: The Professional', 'Se7en', 'Saving Private Ryan', 'The Usual Suspects', 'Spirited Away', 'Life Is Beautiful', 'The Intouchables', 'Once Upon a Time in the West', \"It's a Wonderful Life\", 'City Lights', 'Babam ve Oglum', 'Alien', 'The Prestige', 'Gladiator', 'The Dark Knight Rises', 'Whiplash', 'Memento', 'The Green Mile', 'Apocalypse Now', 'Psycho', 'Raiders of the Lost Ark', 'Terminator 2: Judgment Day', 'The Pianist', 'The Lives of Others', 'Dr. Strangelove or: How I Learned to Stop Worrying and Love the Bomb', 'American History X', 'Back to the Future', 'Casino', 'Die Hard', 'The Elephant Man', 'Finding Nemo', 'Gran Torino', \"Harry Potter and the Sorcerer's Stone\", 'Indiana Jones and the Temple of Doom', 'Jurassic Park', 'Kill Bill: Vol. 1', 'Logan', 'Monsters, Inc.', 'Night of the Living Dead', \"Ocean's Eleven\", 'Pirates of the Caribbean: The Curse of the Black Pearl', 'Quantum of Solace', 'Rocky', 'Shrek', 'Taken', 'Up', 'V for Vendetta', 'WALL·E', 'X-Men', 'Young Frankenstein', 'Zulu', 'Casablanca', 'Rear Window', 'Sunset Blvd.', 'Grave of the Fireflies', 'Cinema Paradiso', 'The Great Dictator', 'Modern Times', 'Paths of Glory', 'Taare Zameen Par', 'Aliens', 'Django Unchained', 'American Beauty', 'The Shining', 'Requiem for a Dream', 'Braveheart', 'Oldboy', 'Star Wars: Episode VI - Return of the Jedi', 'North by Northwest', 'Amélie', 'Once Upon a Time in America', '3 Idiots', 'Princess Mononoke', 'Vertigo', 'Citizen Kane', 'Das Boot', 'M', 'A Separation', 'Children of Heaven', 'Witness for the Prosecution', 'Drishyam', 'The Bandit', 'La La Land', 'Inglourious Basterds', 'Good Will Hunting', 'Snatch', 'Batman Begins', 'Taxi Driver', 'Eternal Sunshine of the Spotless Mind', 'A Clockwork Orange', 'Reservoir Dogs', 'Full Metal Jacket', '2001: A Space Odyssey', 'Downfall', 'The Hunt', 'L.A. Confidential', 'American Psycho', 'Beauty and the Beast', 'The Departed', 'Fargo', 'The Jungle Book', 'The Lion King', 'Mary Poppins', 'Planet of the Apes', 'Scarface', 'The Wolf of Wall Street', 'Toy Story', 'Amadeus', 'To Kill a Mockingbird', 'Monty Python and the Holy Grail', 'Lawrence of Arabia', 'Toy Story 3', 'Some Like It Hot', \"Singin' in the Rain\", 'Come and See', 'Metropolis', 'The Sting', 'The Third Man', 'For a Few Dollars More', 'The Apartment', 'Judgment at Nuremberg', 'All About Eve', 'Rang De Basanti', 'Double Indemnity', 'Rashômon', 'Bicycle Thieves', 'Andrei Rublev', 'Yojimbo', 'Gangs of Wasseypur', 'The Treasure of the Sierra Madre', 'The Kid', 'Ikiru', 'A Wednesday', 'Sunrise', 'The Passion of Joan of Arc', 'Sholay', 'Munna Bhai M.B.B.S.', 'Andaz Apna Apna', 'Hera Pheri', 'Hacksaw Ridge', 'Trainspotting', 'Blade Runner', 'Room', 'Gone with the Wind', 'Heat', 'The Big Lebowski', 'Warrior', 'Unforgiven', \"Pan's Labyrinth\", 'Inside Out', 'A Beautiful Mind', 'The Deer Hunter', 'The Thing', 'Lock, Stock and Two Smoking Barrels', 'Cool Hand Luke', 'Raging Bull', \"Howl's Moving Castle\", 'The Secret in Their Eyes', 'Incendies', 'Chinatown', 'The Great Escape', 'My Neighbor Totoro', 'The Seventh Seal', 'On the Waterfront', 'The Bridge on the River Kwai', 'Ran', 'Rebecca', 'Mary and Max', 'Dial M for Murder', 'Mr. Smith Goes to Washington', 'It Happened One Night', 'Wild Strawberries', 'The Wages of Fear', 'The Gold Rush', 'The General', 'Nights of Cabiria', 'Guardians of the Galaxy Vol. 2', 'Star Wars: Episode VII - The Force Awakens', 'Mad Max: Fury Road', 'No Country for Old Men', 'Gone Girl', 'Prisoners', 'What Ever Happened to Baby Jane?', 'Spotlight', 'The Princess Bride', 'Donnie Darko', 'Stand by Me', 'Into the Wild', 'The Sixth Sense', 'Shutter Island', 'The Grand Budapest Hotel', 'The Help', 'There Will Be Blood', 'Catch Me If You Can', '12 Years a Slave', 'The Wizard of Oz', 'Rush', 'The Truman Show', 'Platoon', 'Million Dollar Baby', 'The Bourne Ultimatum', 'Stalker', 'Wild Tales', \"Hachi: A Dog's Tale\", 'How to Train Your Dragon', 'Annie Hall', 'Ben-Hur', 'Before Sunrise', 'In the Mood for Love', 'Hotel Rwanda', 'Butch Cassidy and the Sundance Kid', 'Gandhi', 'Barry Lyndon', 'Memories of Murder', \"Monty Python's Life of Brian\", 'Infernal Affairs', 'La Haine', 'In the Name of the Father', 'Amores Perros', 'Network', 'Nausicaä of the Valley of the Wind', 'The Maltese Falcon', 'Persona', 'The Grapes of Wrath', 'Jaws'], 'Rating': [9.3, 9.2, 9.0, 9.0, 8.9, 8.9, 8.9, 8.9, 8.8, 8.8, 8.8, 8.8, 8.8, 8.4, 8.7, 8.6, 8.7, 8.7, 8.7, 8.6, 8.7, 8.6, 8.6, 8.4, 8.6, 8.5, 8.6, 8.6, 8.5, 8.6, 8.6, 8.5, 8.5, 8.6, 8.5, 8.3, 8.4, 8.5, 8.5, 8.4, 8.5, 8.4, 8.6, 8.4, 8.5, 8.4, 8.5, 8.5, 8.4, 8.4, 8.5, 8.5, 8.2, 8.2, 8.1, 8.1, 8.1, 7.6, 7.6, 8.1, 8.1, 8.1, 8.0, 7.9, 7.7, 8.0, 6.6, 8.1, 7.8, 7.8, 8.2, 8.2, 8.4, 7.4, 8.0, 7.7, 8.5, 8.4, 8.4, 8.5, 8.5, 8.4, 8.5, 8.4, 8.4, 8.3, 8.4, 8.3, 8.4, 8.3, 8.3, 8.4, 8.3, 8.3, 8.3, 8.4, 8.4, 8.4, 8.3, 8.3, 8.3, 8.3, 8.3, 8.3, 8.4, 8.2, 8.2, 8.0, 8.3, 8.3, 8.3, 8.2, 8.3, 8.3, 8.3, 8.3, 8.3, 8.3, 8.2, 8.3, 8.2, 7.6, 8.0, 8.5, 8.1, 7.4, 8.5, 7.8, 8.0, 8.3, 8.2, 8.3, 8.3, 8.2, 8.2, 8.3, 8.3, 8.2, 8.3, 8.3, 8.3, 8.3, 8.1, 8.3, 8.3, 8.2, 8.2, 8.2, 8.3, 8.2, 8.3, 8.1, 8.2, 8.2, 8.2, 8.3, 8.3, 8.1, 8.1, 8.1, 8.2, 8.1, 8.2, 8.2, 8.1, 8.1, 8.1, 8.1, 8.1, 8.2, 8.1, 8.2, 8.2, 8.2, 8.1, 8.2, 8.1, 8.1, 8.2, 8.1, 8.2, 8.2, 8.2, 8.3, 8.1, 8.2, 8.2, 8.2, 8.1, 8.1, 8.2, 8.1, 8.1, 8.2, 8.1, 8.1, 8.2, 8.1, 8.2, 8.1, 8.1, 7.6, 7.9, 8.1, 8.1, 8.1, 8.1, 8.1, 8.1, 8.1, 8.0, 8.1, 8.1, 8.1, 8.2, 8.1, 8.0, 8.2, 8.1, 8.1, 8.0, 8.1, 8.1, 8.1, 8.1, 8.0, 8.2, 8.1, 8.1, 8.1, 8.0, 8.1, 8.1, 8.1, 8.1, 8.0, 8.0, 8.1, 8.1, 8.1, 8.0, 8.1, 8.1, 8.1, 8.1, 8.1, 8.0, 8.1, 8.0, 8.0], 'Year': [1994, 1972, 2008, 1974, 1994, 1993, 2003, 1957, 1966, 1994, 2010, 2001, 1999, 2016, 1980, 1977, 1999, 1990, 1975, 2002, 2002, 1954, 2014, 2016, 1991, 1994, 1995, 1998, 1995, 2001, 1997, 2011, 1968, 1946, 1931, 2005, 1979, 2006, 2000, 2012, 2014, 2000, 1999, 1979, 1960, 1981, 1991, 2002, 2006, 1964, 1998, 1985, 1995, 1988, 1980, 2003, 2008, 2001, 1984, 1993, 2003, 2017, 2001, 1968, 2001, 2003, 2008, 1976, 2001, 2008, 2009, 2005, 2008, 2000, 1974, 1964, 1942, 1954, 1950, 1988, 1988, 1940, 1936, 1957, 2007, 1986, 2012, 1999, 1980, 2000, 1995, 2003, 1983, 1959, 2001, 1984, 2009, 1997, 1958, 1941, 1981, 1931, 2011, 1997, 1957, 2015, 1996, 2016, 2009, 1997, 2000, 2005, 1976, 2004, 1971, 1992, 1987, 1968, 2004, 2012, 1997, 2000, 1991, 2006, 1996, 2016, 1994, 1964, 1968, 1983, 2013, 1995, 1984, 1962, 1975, 1962, 2010, 1959, 1952, 1985, 1927, 1973, 1949, 1965, 1960, 1961, 1950, 2006, 1944, 1950, 1948, 1966, 1961, 2012, 1948, 1921, 1952, 2008, 1927, 1928, 1975, 2003, 1994, 2000, 2016, 1996, 1982, 2015, 1939, 1995, 1998, 2011, 1992, 2006, 2015, 2001, 1978, 1982, 1998, 1967, 1980, 2004, 2009, 2010, 1974, 1963, 1988, 1957, 1954, 1957, 1985, 1940, 2009, 1954, 1939, 1934, 1957, 1953, 1925, 1926, 1957, 2017, 2015, 2015, 2007, 2014, 2013, 1962, 2015, 1987, 2001, 1986, 2007, 1999, 2010, 2014, 2011, 2007, 2002, 2013, 1939, 2013, 1998, 1986, 2004, 2007, 1979, 2014, 2009, 2010, 1977, 1959, 1995, 2000, 2004, 1969, 1982, 1975, 2003, 1979, 2002, 1995, 1993, 2000, 1976, 1984, 1941, 1966, 1940, 1975], 'RunTime': [142, 175, 152, 202, 154, 195, 201, 96, 178, 142, 148, 178, 139, 161, 124, 121, 136, 146, 133, 130, 179, 207, 169, 106, 118, 110, 127, 169, 106, 125, 116, 112, 165, 130, 87, 112, 117, 130, 155, 164, 106, 113, 189, 147, 109, 115, 137, 150, 137, 95, 119, 116, 178, 132, 124, 100, 116, 152, 118, 127, 111, 137, 92, 96, 116, 143, 106, 120, 90, 90, 96, 132, 98, 104, 106, 138, 102, 112, 110, 89, 155, 125, 87, 88, 165, 137, 165, 122, 146, 102, 178, 120, 131, 136, 122, 229, 170, 134, 128, 119, 149, 99, 123, 89, 116, 163, 128, 128, 153, 126, 102, 140, 114, 108, 136, 99, 116, 149, 156, 115, 138, 101, 84, 151, 98, 106, 88, 139, 112, 170, 180, 81, 160, 129, 91, 228, 103, 121, 103, 142, 153, 129, 93, 132, 125, 179, 138, 167, 107, 88, 89, 205, 110, 321, 126, 68, 143, 104, 94, 114, 162, 156, 160, 156, 139, 93, 117, 118, 238, 170, 117, 140, 130, 118, 95, 135, 183, 109, 107, 127, 129, 119, 129, 131, 130, 172, 86, 96, 108, 161, 162, 130, 92, 105, 129, 105, 91, 131, 95, 67, 110, 136, 138, 120, 122, 149, 153, 134, 129, 98, 113, 89, 148, 107, 138, 99, 146, 158, 141, 134, 102, 123, 103, 120, 132, 115, 162, 122, 93, 98, 93, 212, 101, 98, 121, 110, 191, 185, 132, 94, 101, 98, 133, 154, 121, 117, 100, 83, 129, 124], 'Votes': [2295357, 1584430, 2260143, 1106984, 1792527, 1191547, 1614066, 674460, 677065, 1768905, 2022175, 1629813, 1819909, 150166, 1139085, 1210826, 1643570, 999408, 900960, 689573, 1458845, 310368, 1467998, 183143, 1244487, 1015127, 1413844, 1212539, 975143, 633492, 610543, 742289, 297704, 390816, 164294, 76907, 774369, 1165164, 1316835, 1490976, 697554, 1107120, 1121995, 595332, 592256, 870453, 980796, 713686, 352237, 443809, 1019849, 1035919, 456765, 771955, 216159, 933581, 711011, 634520, 441035, 852210, 983702, 632930, 800260, 114339, 507207, 1004845, 400036, 509257, 603751, 559837, 917639, 1015622, 981063, 564347, 141346, 35365, 513507, 435876, 197736, 228340, 225275, 199172, 213236, 174381, 163745, 643357, 1328339, 1054518, 877466, 753571, 946315, 504947, 933646, 294121, 693961, 304916, 335406, 334517, 356486, 392219, 228080, 140652, 215691, 63300, 106020, 67205, 62572, 492297, 1239242, 843998, 770749, 1286991, 709269, 896235, 745154, 902572, 663004, 592330, 326618, 272546, 524444, 478388, 412393, 1167516, 605320, 256084, 923775, 155232, 163542, 726680, 1152384, 870408, 363335, 290351, 494328, 263453, 744333, 239771, 214817, 55713, 157400, 237836, 156346, 228259, 160626, 68051, 118584, 109843, 140850, 149563, 143014, 45426, 108781, 79537, 112375, 110481, 66394, 72960, 46331, 46337, 50523, 72512, 48606, 55560, 422978, 626398, 682542, 361529, 285627, 566328, 719310, 429924, 369828, 610192, 597998, 833242, 306345, 363422, 527569, 159304, 316165, 323404, 189392, 144782, 289094, 221139, 282137, 160910, 139642, 200194, 110032, 120434, 162050, 154864, 105186, 92087, 93878, 53430, 98617, 79454, 42155, 555496, 848638, 863233, 838369, 840282, 586624, 49169, 410339, 388066, 731299, 357963, 563795, 899175, 1105200, 692486, 421852, 506881, 808368, 628817, 367562, 425632, 918376, 375350, 626836, 599278, 113485, 172385, 247819, 655514, 249265, 216099, 265449, 120558, 330651, 199889, 215861, 146579, 131242, 361616, 116822, 146156, 153990, 220497, 142818, 146763, 147324, 100149, 84889, 537918], 'Genre': ['Drama', 'Crime', 'Action', 'Crime', 'Crime', 'Biography', 'Action', 'Crime', 'Western', 'Drama', 'Action', 'Action', 'Drama', 'Action', 'Action', 'Action', 'Action', 'Biography', 'Drama', 'Crime', 'Action', 'Action', 'Adventure', 'Animation', 'Crime', 'Action', 'Crime', 'Drama', 'Crime', 'Animation', 'Comedy', 'Biography', 'Western', 'Drama', 'Comedy', 'Drama', 'Horror', 'Drama', 'Action', 'Action', 'Drama', 'Mystery', 'Crime', 'Drama', 'Horror', 'Action', 'Action', 'Biography', 'Drama', 'Comedy', 'Drama', 'Adventure', 'Crime', 'Action', 'Biography', 'Animation', 'Drama', 'Adventure', 'Action', 'Action', 'Action', 'Action', 'Animation', 'Horror', 'Crime', 'Action', 'Action', 'Drama', 'Animation', 'Action', 'Animation', 'Action', 'Animation', 'Action', 'Comedy', 'Drama', 'Drama', 'Mystery', 'Drama', 'Animation', 'Drama', 'Comedy', 'Comedy', 'Drama', 'Drama', 'Action', 'Drama', 'Drama', 'Drama', 'Drama', 'Biography', 'Action', 'Action', 'Adventure', 'Comedy', 'Crime', 'Comedy', 'Animation', 'Mystery', 'Drama', 'Adventure', 'Crime', 'Drama', 'Drama', 'Crime', 'Crime', 'Crime', 'Comedy', 'Adventure', 'Drama', 'Comedy', 'Action', 'Crime', 'Drama', 'Crime', 'Crime', 'Drama', 'Adventure', 'Biography', 'Drama', 'Crime', 'Comedy', 'Animation', 'Crime', 'Crime', 'Adventure', 'Animation', 'Comedy', 'Adventure', 'Crime', 'Biography', 'Animation', 'Biography', 'Crime', 'Adventure', 'Adventure', 'Animation', 'Comedy', 'Comedy', 'Drama', 'Drama', 'Comedy', 'Film-Noir', 'Western', 'Comedy', 'Drama', 'Drama', 'Comedy', 'Crime', 'Crime', 'Drama', 'Biography', 'Action', 'Action', 'Adventure', 'Comedy', 'Drama', 'Action', 'Drama', 'Biography', 'Action', 'Comedy', 'Comedy', 'Action', 'Biography', 'Drama', 'Action', 'Drama', 'Drama', 'Crime', 'Comedy', 'Action', 'Drama', 'Drama', 'Animation', 'Biography', 'Drama', 'Horror', 'Action', 'Crime', 'Biography', 'Animation', 'Drama', 'Drama', 'Drama', 'Adventure', 'Animation', 'Drama', 'Crime', 'Adventure', 'Action', 'Drama', 'Animation', 'Crime', 'Comedy', 'Comedy', 'Drama', 'Adventure', 'Adventure', 'Action', 'Drama', 'Action', 'Action', 'Action', 'Crime', 'Drama', 'Crime', 'Drama', 'Biography', 'Adventure', 'Drama', 'Adventure', 'Adventure', 'Drama', 'Mystery', 'Adventure', 'Drama', 'Drama', 'Biography', 'Biography', 'Adventure', 'Action', 'Comedy', 'Drama', 'Drama', 'Action', 'Drama', 'Comedy', 'Drama', 'Animation', 'Comedy', 'Adventure', 'Drama', 'Drama', 'Biography', 'Biography', 'Biography', 'Adventure', 'Action', 'Comedy', 'Action', 'Crime', 'Biography', 'Drama', 'Drama', 'Animation', 'Film-Noir', 'Drama', 'Drama', 'Adventure'], 'Director': ['Frank Darabont', 'Francis Ford Coppola', 'Christopher Nolan', 'Francis Ford Coppola', 'Quentin Tarantino', 'Steven Spielberg', 'Peter Jackson', 'Sidney Lumet', 'Sergio Leone', 'Robert Zemeckis', 'Christopher Nolan', 'Peter Jackson', 'David Fincher', 'Nitesh Tiwari', 'Irvin Kershner', 'George Lucas', 'Lana Wachowski', 'Martin Scorsese', 'Milos Forman', 'Fernando Meirelles', 'Peter Jackson', 'Akira Kurosawa', 'Christopher Nolan', 'Makoto Shinkai', 'Jonathan Demme', 'Luc Besson', 'David Fincher', 'Steven Spielberg', 'Bryan Singer', 'Hayao Miyazaki', 'Roberto Benigni', 'Olivier Nakache', 'Sergio Leone', 'Frank Capra', 'Charles Chaplin', 'Çagan Irmak', 'Ridley Scott', 'Christopher Nolan', 'Ridley Scott', 'Christopher Nolan', 'Damien Chazelle', 'Christopher Nolan', 'Frank Darabont', 'Francis Ford Coppola', 'Alfred Hitchcock', 'Steven Spielberg', 'James Cameron', 'Roman Polanski', 'Florian Henckel von Donnersmarck', 'Stanley Kubrick', 'Tony Kaye', 'Robert Zemeckis', 'Martin Scorsese', 'John McTiernan', 'David Lynch', 'Andrew Stanton', 'Clint Eastwood', 'Chris Columbus', 'Steven Spielberg', 'Steven Spielberg', 'Quentin Tarantino', 'James Mangold', 'Pete Docter', 'George A. Romero', 'Steven Soderbergh', 'Gore Verbinski', 'Marc Forster', 'John G. Avildsen', 'Andrew Adamson', 'Pierre Morel', 'Pete Docter', 'James McTeigue', 'Andrew Stanton', 'Bryan Singer', 'Mel Brooks', 'Cy Endfield', 'Michael Curtiz', 'Alfred Hitchcock', 'Billy Wilder', 'Isao Takahata', 'Giuseppe Tornatore', 'Charles Chaplin', 'Charles Chaplin', 'Stanley Kubrick', 'Aamir Khan', 'James Cameron', 'Quentin Tarantino', 'Sam Mendes', 'Stanley Kubrick', 'Darren Aronofsky', 'Mel Gibson', 'Chan-wook Park', 'Richard Marquand', 'Alfred Hitchcock', 'Jean-Pierre Jeunet', 'Sergio Leone', 'Rajkumar Hirani', 'Hayao Miyazaki', 'Alfred Hitchcock', 'Orson Welles', 'Wolfgang Petersen', 'Fritz Lang', 'Asghar Farhadi', 'Majid Majidi', 'Billy Wilder', 'Nishikant Kamat', 'Yavuz Turgul', 'Damien Chazelle', 'Quentin Tarantino', 'Gus Van Sant', 'Guy Ritchie', 'Christopher Nolan', 'Martin Scorsese', 'Michel Gondry', 'Stanley Kubrick', 'Quentin Tarantino', 'Stanley Kubrick', 'Stanley Kubrick', 'Oliver Hirschbiegel', 'Thomas Vinterberg', 'Curtis Hanson', 'Mary Harron', 'Gary Trousdale', 'Martin Scorsese', 'Joel Coen', 'Jon Favreau', 'Roger Allers', 'Robert Stevenson', 'Franklin J. Schaffner', 'Brian De Palma', 'Martin Scorsese', 'John Lasseter', 'Milos Forman', 'Robert Mulligan', 'Terry Gilliam', 'David Lean', 'Lee Unkrich', 'Billy Wilder', 'Stanley Donen', 'Elem Klimov', 'Fritz Lang', 'George Roy Hill', 'Carol Reed', 'Sergio Leone', 'Billy Wilder', 'Stanley Kramer', 'Joseph L. Mankiewicz', 'Rakeysh Omprakash Mehra', 'Billy Wilder', 'Akira Kurosawa', 'Vittorio De Sica', 'Andrei Tarkovsky', 'Akira Kurosawa', 'Anurag Kashyap', 'John Huston', 'Charles Chaplin', 'Akira Kurosawa', 'Neeraj Pandey', 'F.W. Murnau', 'Carl Theodor Dreyer', 'Ramesh Sippy', 'Rajkumar Hirani', 'Rajkumar Santoshi', 'Priyadarshan', 'Mel Gibson', 'Danny Boyle', 'Ridley Scott', 'Lenny Abrahamson', 'Victor Fleming', 'Michael Mann', 'Joel Coen', \"Gavin O'Connor\", 'Clint Eastwood', 'Guillermo del Toro', 'Pete Docter', 'Ron Howard', 'Michael Cimino', 'John Carpenter', 'Guy Ritchie', 'Stuart Rosenberg', 'Martin Scorsese', 'Hayao Miyazaki', 'Juan José Campanella', 'Denis Villeneuve', 'Roman Polanski', 'John Sturges', 'Hayao Miyazaki', 'Ingmar Bergman', 'Elia Kazan', 'David Lean', 'Akira Kurosawa', 'Alfred Hitchcock', 'Adam Elliot', 'Alfred Hitchcock', 'Frank Capra', 'Frank Capra', 'Ingmar Bergman', 'Henri-Georges Clouzot', 'Charles Chaplin', 'Clyde Bruckman', 'Federico Fellini', 'James Gunn', 'J.J. Abrams', 'George Miller', 'Ethan Coen', 'David Fincher', 'Denis Villeneuve', 'Robert Aldrich', 'Tom McCarthy', 'Rob Reiner', 'Richard Kelly', 'Rob Reiner', 'Sean Penn', 'M. Night Shyamalan', 'Martin Scorsese', 'Wes Anderson', 'Tate Taylor', 'Paul Thomas Anderson', 'Steven Spielberg', 'Steve McQueen', 'Victor Fleming', 'Ron Howard', 'Peter Weir', 'Oliver Stone', 'Clint Eastwood', 'Paul Greengrass', 'Andrei Tarkovsky', 'Damián Szifron', 'Lasse Hallström', 'Dean DeBlois', 'Woody Allen', 'William Wyler', 'Richard Linklater', 'Kar-Wai Wong', 'Terry George', 'George Roy Hill', 'Richard Attenborough', 'Stanley Kubrick', 'Bong Joon Ho', 'Terry Jones', 'Andrew Lau', 'Mathieu Kassovitz', 'Jim Sheridan', 'Alejandro G. Iñárritu', 'Sidney Lumet', 'Hayao Miyazaki', 'John Huston', 'Ingmar Bergman', 'John Ford', 'Steven Spielberg']}\n"
          ],
          "name": "stdout"
        },
        {
          "output_type": "execute_result",
          "data": {
            "text/plain": [
              "250"
            ]
          },
          "metadata": {
            "tags": []
          },
          "execution_count": 314
        }
      ]
    },
    {
      "cell_type": "code",
      "metadata": {
        "id": "fVHQ2UMq60YF"
      },
      "source": [
        "# To answer the questions we need the data to be in a table\n",
        "# create a data frame with pandas from the movie map\n",
        "df = pd.DataFrame(movies, columns = ['Name', 'Rating', 'Year', 'RunTime', 'Votes', 'Genre', 'Director'])"
      ],
      "execution_count": null,
      "outputs": []
    },
    {
      "cell_type": "markdown",
      "metadata": {
        "id": "dmYiSeFhBVML"
      },
      "source": [
        "### Question 1\n",
        "Running the below sort_values() will organize the dataframe from fewest votes to most.\n",
        "The movie with the fewest votes is Zulu and the most is The Shawshank Redemption."
      ]
    },
    {
      "cell_type": "code",
      "metadata": {
        "id": "WBP67Xvx6_94",
        "colab": {
          "base_uri": "https://localhost:8080/",
          "height": 419
        },
        "outputId": "b720c187-e290-47e3-981d-7bacf2bf213e"
      },
      "source": [
        "# Question 1\n",
        "df.sort_values(by=\"Votes\")"
      ],
      "execution_count": null,
      "outputs": [
        {
          "output_type": "execute_result",
          "data": {
            "text/html": [
              "<div>\n",
              "<style scoped>\n",
              "    .dataframe tbody tr th:only-of-type {\n",
              "        vertical-align: middle;\n",
              "    }\n",
              "\n",
              "    .dataframe tbody tr th {\n",
              "        vertical-align: top;\n",
              "    }\n",
              "\n",
              "    .dataframe thead th {\n",
              "        text-align: right;\n",
              "    }\n",
              "</style>\n",
              "<table border=\"1\" class=\"dataframe\">\n",
              "  <thead>\n",
              "    <tr style=\"text-align: right;\">\n",
              "      <th></th>\n",
              "      <th>Name</th>\n",
              "      <th>Rating</th>\n",
              "      <th>Year</th>\n",
              "      <th>RunTime</th>\n",
              "      <th>Votes</th>\n",
              "      <th>Genre</th>\n",
              "      <th>Director</th>\n",
              "    </tr>\n",
              "  </thead>\n",
              "  <tbody>\n",
              "    <tr>\n",
              "      <th>75</th>\n",
              "      <td>Zulu</td>\n",
              "      <td>7.7</td>\n",
              "      <td>1964</td>\n",
              "      <td>138</td>\n",
              "      <td>35365</td>\n",
              "      <td>Drama</td>\n",
              "      <td>Cy Endfield</td>\n",
              "    </tr>\n",
              "    <tr>\n",
              "      <th>200</th>\n",
              "      <td>Nights of Cabiria</td>\n",
              "      <td>8.1</td>\n",
              "      <td>1957</td>\n",
              "      <td>110</td>\n",
              "      <td>42155</td>\n",
              "      <td>Drama</td>\n",
              "      <td>Federico Fellini</td>\n",
              "    </tr>\n",
              "    <tr>\n",
              "      <th>151</th>\n",
              "      <td>Andrei Rublev</td>\n",
              "      <td>8.1</td>\n",
              "      <td>1966</td>\n",
              "      <td>205</td>\n",
              "      <td>45426</td>\n",
              "      <td>Biography</td>\n",
              "      <td>Andrei Tarkovsky</td>\n",
              "    </tr>\n",
              "    <tr>\n",
              "      <th>158</th>\n",
              "      <td>Sunrise</td>\n",
              "      <td>8.1</td>\n",
              "      <td>1927</td>\n",
              "      <td>94</td>\n",
              "      <td>46331</td>\n",
              "      <td>Drama</td>\n",
              "      <td>F.W. Murnau</td>\n",
              "    </tr>\n",
              "    <tr>\n",
              "      <th>159</th>\n",
              "      <td>The Passion of Joan of Arc</td>\n",
              "      <td>8.1</td>\n",
              "      <td>1928</td>\n",
              "      <td>114</td>\n",
              "      <td>46337</td>\n",
              "      <td>Biography</td>\n",
              "      <td>Carl Theodor Dreyer</td>\n",
              "    </tr>\n",
              "    <tr>\n",
              "      <th>...</th>\n",
              "      <td>...</td>\n",
              "      <td>...</td>\n",
              "      <td>...</td>\n",
              "      <td>...</td>\n",
              "      <td>...</td>\n",
              "      <td>...</td>\n",
              "      <td>...</td>\n",
              "    </tr>\n",
              "    <tr>\n",
              "      <th>4</th>\n",
              "      <td>Pulp Fiction</td>\n",
              "      <td>8.9</td>\n",
              "      <td>1994</td>\n",
              "      <td>154</td>\n",
              "      <td>1792527</td>\n",
              "      <td>Crime</td>\n",
              "      <td>Quentin Tarantino</td>\n",
              "    </tr>\n",
              "    <tr>\n",
              "      <th>12</th>\n",
              "      <td>Fight Club</td>\n",
              "      <td>8.8</td>\n",
              "      <td>1999</td>\n",
              "      <td>139</td>\n",
              "      <td>1819909</td>\n",
              "      <td>Drama</td>\n",
              "      <td>David Fincher</td>\n",
              "    </tr>\n",
              "    <tr>\n",
              "      <th>10</th>\n",
              "      <td>Inception</td>\n",
              "      <td>8.8</td>\n",
              "      <td>2010</td>\n",
              "      <td>148</td>\n",
              "      <td>2022175</td>\n",
              "      <td>Action</td>\n",
              "      <td>Christopher Nolan</td>\n",
              "    </tr>\n",
              "    <tr>\n",
              "      <th>2</th>\n",
              "      <td>The Dark Knight</td>\n",
              "      <td>9.0</td>\n",
              "      <td>2008</td>\n",
              "      <td>152</td>\n",
              "      <td>2260143</td>\n",
              "      <td>Action</td>\n",
              "      <td>Christopher Nolan</td>\n",
              "    </tr>\n",
              "    <tr>\n",
              "      <th>0</th>\n",
              "      <td>The Shawshank Redemption</td>\n",
              "      <td>9.3</td>\n",
              "      <td>1994</td>\n",
              "      <td>142</td>\n",
              "      <td>2295357</td>\n",
              "      <td>Drama</td>\n",
              "      <td>Frank Darabont</td>\n",
              "    </tr>\n",
              "  </tbody>\n",
              "</table>\n",
              "<p>250 rows × 7 columns</p>\n",
              "</div>"
            ],
            "text/plain": [
              "                           Name  Rating  ...      Genre             Director\n",
              "75                         Zulu     7.7  ...      Drama          Cy Endfield\n",
              "200           Nights of Cabiria     8.1  ...      Drama     Federico Fellini\n",
              "151               Andrei Rublev     8.1  ...  Biography     Andrei Tarkovsky\n",
              "158                     Sunrise     8.1  ...      Drama          F.W. Murnau\n",
              "159  The Passion of Joan of Arc     8.1  ...  Biography  Carl Theodor Dreyer\n",
              "..                          ...     ...  ...        ...                  ...\n",
              "4                  Pulp Fiction     8.9  ...      Crime    Quentin Tarantino\n",
              "12                   Fight Club     8.8  ...      Drama        David Fincher\n",
              "10                    Inception     8.8  ...     Action    Christopher Nolan\n",
              "2               The Dark Knight     9.0  ...     Action    Christopher Nolan\n",
              "0      The Shawshank Redemption     9.3  ...      Drama       Frank Darabont\n",
              "\n",
              "[250 rows x 7 columns]"
            ]
          },
          "metadata": {
            "tags": []
          },
          "execution_count": 316
        }
      ]
    },
    {
      "cell_type": "markdown",
      "metadata": {
        "id": "SZOEpS4rCOvB"
      },
      "source": [
        "### Question 2\n",
        "With the bar graph below, it is evident that Drama has the most movies of any genre.\n",
        "Film-Noir has the fewest."
      ]
    },
    {
      "cell_type": "code",
      "metadata": {
        "id": "lMKUTCfz9_op",
        "colab": {
          "base_uri": "https://localhost:8080/",
          "height": 558
        },
        "outputId": "b7c278f7-6b29-480d-f51f-4e228079d6c5"
      },
      "source": [
        "# Question 2\n",
        "df['Genre'].value_counts().plot(kind='bar', figsize=(14,8), title=\"Number per genre\")"
      ],
      "execution_count": null,
      "outputs": [
        {
          "output_type": "execute_result",
          "data": {
            "text/plain": [
              "<matplotlib.axes._subplots.AxesSubplot at 0x7f76238c6470>"
            ]
          },
          "metadata": {
            "tags": []
          },
          "execution_count": 317
        },
        {
          "output_type": "display_data",
          "data": {
            "image/png": "[encoded data removed]",
            "text/plain": [
              "<Figure size 1008x576 with 1 Axes>"
            ]
          },
          "metadata": {
            "tags": [],
            "needs_background": "light"
          }
        }
      ]
    },
    {
      "cell_type": "markdown",
      "metadata": {
        "id": "CrQp6-pTGdxk"
      },
      "source": [
        "### Question 3\n",
        "The top five directors are found in the descending list of movies per director:\n",
        "\n",
        "Stanley Kubrick, Steven Spielberg, Martin Scorsese, and Christopher Nolan are all tied at 7 movies. Alfred Hitchcock has 6."
      ]
    },
    {
      "cell_type": "code",
      "metadata": {
        "id": "8gItmt1h_PJG",
        "colab": {
          "base_uri": "https://localhost:8080/",
          "height": 221
        },
        "outputId": "2327035e-6ed4-4422-bafa-216c4cd6bad9"
      },
      "source": [
        "# Question 3\n",
        "df['Director'].value_counts()"
      ],
      "execution_count": null,
      "outputs": [
        {
          "output_type": "execute_result",
          "data": {
            "text/plain": [
              "Stanley Kubrick         7\n",
              "Steven Spielberg        7\n",
              "Martin Scorsese         7\n",
              "Christopher Nolan       7\n",
              "Alfred Hitchcock        6\n",
              "                       ..\n",
              "Dean DeBlois            1\n",
              "Neeraj Pandey           1\n",
              "Tate Taylor             1\n",
              "Paul Thomas Anderson    1\n",
              "James Mangold           1\n",
              "Name: Director, Length: 160, dtype: int64"
            ]
          },
          "metadata": {
            "tags": []
          },
          "execution_count": 318
        }
      ]
    },
    {
      "cell_type": "markdown",
      "metadata": {
        "id": "CiufGYiKvwvZ"
      },
      "source": [
        "# 2. Severe Storms with Google BigQuery\n",
        " "
      ]
    },
    {
      "cell_type": "code",
      "metadata": {
        "id": "KF8JM4NJwOLK",
        "colab": {
          "base_uri": "https://localhost:8080/",
          "height": 34
        },
        "outputId": "31d55783-1092-4624-a349-cbc6f6c79c1b"
      },
      "source": [
        "from google.colab import auth\n",
        "auth.authenticate_user()\n",
        "print('Authenticated')"
      ],
      "execution_count": null,
      "outputs": [
        {
          "output_type": "stream",
          "text": [
            "Authenticated\n"
          ],
          "name": "stdout"
        }
      ]
    },
    {
      "cell_type": "markdown",
      "metadata": {
        "id": "sDvSGo7xwvOA"
      },
      "source": [
        "2. Declare the Cloud project ID which will be used throughout this notebook. You need to login your BigQuery to find out your own project id and paste it below."
      ]
    },
    {
      "cell_type": "code",
      "metadata": {
        "id": "oR23aYTCwwR3"
      },
      "source": [
        "# For example mine is test-project-ecs189l, so I will run project_id = 'test-project-ecs189l'\n",
        "# project_id = 'Paste Your Project ID here to Replace This String'\n",
        "project_id = 'ecs-189l-hw1-293109'"
      ],
      "execution_count": null,
      "outputs": []
    },
    {
      "cell_type": "code",
      "metadata": {
        "id": "gYLMRJ3bahIZ"
      },
      "source": [
        "import tqdm"
      ],
      "execution_count": null,
      "outputs": []
    },
    {
      "cell_type": "markdown",
      "metadata": {
        "id": "2lRZPN3Nw5fL"
      },
      "source": [
        "Read the database into a data frame"
      ]
    },
    {
      "cell_type": "code",
      "metadata": {
        "id": "ioWmmLERw6VL"
      },
      "source": [
        "df = pd.io.gbq.read_gbq('''SELECT\n",
        "  LOWER(event_type) as event_type,\n",
        "  COUNT(event_id) as count_storms\n",
        "FROM\n",
        "  `bigquery-public-data.noaa_historic_severe_storms.storms_*`\n",
        "WHERE\n",
        "  _TABLE_SUFFIX BETWEEN '1950' AND '2000'\n",
        "GROUP BY\n",
        "  event_type\n",
        "ORDER BY\n",
        "  count_storms desc\n",
        "LIMIT 40  \n",
        "''', project_id)"
      ],
      "execution_count": null,
      "outputs": []
    },
    {
      "cell_type": "markdown",
      "metadata": {
        "id": "yOrylDQ9eFGn"
      },
      "source": [
        "### Question 1\n",
        "Limiting the query to the top 40 event types:\n",
        "\n",
        "The most frequently occurring event type is thunderstorm wind at 169,873 storms"
      ]
    },
    {
      "cell_type": "code",
      "metadata": {
        "id": "lFMxUTrExuSz",
        "colab": {
          "base_uri": "https://localhost:8080/",
          "height": 80
        },
        "outputId": "6f0b2b55-a2c9-45a8-c5df-e7575c92784b"
      },
      "source": [
        "# Question 1\n",
        "df.loc[df['count_storms'] == df['count_storms'].max()]"
      ],
      "execution_count": null,
      "outputs": [
        {
          "output_type": "execute_result",
          "data": {
            "text/html": [
              "<div>\n",
              "<style scoped>\n",
              "    .dataframe tbody tr th:only-of-type {\n",
              "        vertical-align: middle;\n",
              "    }\n",
              "\n",
              "    .dataframe tbody tr th {\n",
              "        vertical-align: top;\n",
              "    }\n",
              "\n",
              "    .dataframe thead th {\n",
              "        text-align: right;\n",
              "    }\n",
              "</style>\n",
              "<table border=\"1\" class=\"dataframe\">\n",
              "  <thead>\n",
              "    <tr style=\"text-align: right;\">\n",
              "      <th></th>\n",
              "      <th>event_type</th>\n",
              "      <th>count_storms</th>\n",
              "    </tr>\n",
              "  </thead>\n",
              "  <tbody>\n",
              "    <tr>\n",
              "      <th>0</th>\n",
              "      <td>thunderstorm wind</td>\n",
              "      <td>169873</td>\n",
              "    </tr>\n",
              "  </tbody>\n",
              "</table>\n",
              "</div>"
            ],
            "text/plain": [
              "          event_type  count_storms\n",
              "0  thunderstorm wind        169873"
            ]
          },
          "metadata": {
            "tags": []
          },
          "execution_count": 336
        }
      ]
    },
    {
      "cell_type": "markdown",
      "metadata": {
        "id": "7SNw27v3nwkk"
      },
      "source": [
        "### Question 2\n",
        "Querying the data and grouping for the number of tornadoes in each decade. Each row has 10 years (19x0-19x9)."
      ]
    },
    {
      "cell_type": "code",
      "metadata": {
        "id": "I1EBR8ytxuk5"
      },
      "source": [
        "df2 = pd.io.gbq.read_gbq('''SELECT\n",
        "  LOWER(event_type) as event_type,\n",
        "  COUNT(event_id) as count_storms,\n",
        "  (CASE WHEN _TABLE_SUFFIX >= '1950' and _TABLE_SUFFIX < '1960' then '1950s'\n",
        "        WHEN _TABLE_SUFFIX >= '1960' and _TABLE_SUFFIX < '1970' then '1960s'\n",
        "        WHEN _TABLE_SUFFIX >= '1970' and _TABLE_SUFFIX < '1980' then '1970s'\n",
        "        WHEN _TABLE_SUFFIX >= '1980' and _TABLE_SUFFIX < '1990' then '1980s'\n",
        "        WHEN _TABLE_SUFFIX >= '1990' and _TABLE_SUFFIX < '2000' then '1990s'\n",
        "   END) as year\n",
        "FROM\n",
        "  `bigquery-public-data.noaa_historic_severe_storms.storms_*`\n",
        "WHERE\n",
        "  _TABLE_SUFFIX BETWEEN '1950' AND '1999'\n",
        "  AND event_type = 'tornado'\n",
        "GROUP BY\n",
        "  event_type,\n",
        "  year\n",
        "''', project_id)"
      ],
      "execution_count": null,
      "outputs": []
    },
    {
      "cell_type": "code",
      "metadata": {
        "id": "A6c-bwHenrk3",
        "colab": {
          "base_uri": "https://localhost:8080/",
          "height": 204
        },
        "outputId": "5c320769-c7a3-4b74-b088-e71c75feba5d"
      },
      "source": [
        "# Question 2\n",
        "df2"
      ],
      "execution_count": null,
      "outputs": [
        {
          "output_type": "execute_result",
          "data": {
            "text/html": [
              "<div>\n",
              "<style scoped>\n",
              "    .dataframe tbody tr th:only-of-type {\n",
              "        vertical-align: middle;\n",
              "    }\n",
              "\n",
              "    .dataframe tbody tr th {\n",
              "        vertical-align: top;\n",
              "    }\n",
              "\n",
              "    .dataframe thead th {\n",
              "        text-align: right;\n",
              "    }\n",
              "</style>\n",
              "<table border=\"1\" class=\"dataframe\">\n",
              "  <thead>\n",
              "    <tr style=\"text-align: right;\">\n",
              "      <th></th>\n",
              "      <th>event_type</th>\n",
              "      <th>count_storms</th>\n",
              "      <th>year</th>\n",
              "    </tr>\n",
              "  </thead>\n",
              "  <tbody>\n",
              "    <tr>\n",
              "      <th>0</th>\n",
              "      <td>tornado</td>\n",
              "      <td>10935</td>\n",
              "      <td>1990s</td>\n",
              "    </tr>\n",
              "    <tr>\n",
              "      <th>1</th>\n",
              "      <td>tornado</td>\n",
              "      <td>9371</td>\n",
              "      <td>1970s</td>\n",
              "    </tr>\n",
              "    <tr>\n",
              "      <th>2</th>\n",
              "      <td>tornado</td>\n",
              "      <td>9008</td>\n",
              "      <td>1980s</td>\n",
              "    </tr>\n",
              "    <tr>\n",
              "      <th>3</th>\n",
              "      <td>tornado</td>\n",
              "      <td>7270</td>\n",
              "      <td>1960s</td>\n",
              "    </tr>\n",
              "    <tr>\n",
              "      <th>4</th>\n",
              "      <td>tornado</td>\n",
              "      <td>5232</td>\n",
              "      <td>1950s</td>\n",
              "    </tr>\n",
              "  </tbody>\n",
              "</table>\n",
              "</div>"
            ],
            "text/plain": [
              "  event_type  count_storms   year\n",
              "0    tornado         10935  1990s\n",
              "1    tornado          9371  1970s\n",
              "2    tornado          9008  1980s\n",
              "3    tornado          7270  1960s\n",
              "4    tornado          5232  1950s"
            ]
          },
          "metadata": {
            "tags": []
          },
          "execution_count": 366
        }
      ]
    },
    {
      "cell_type": "code",
      "metadata": {
        "id": "LzRrourer-VN",
        "colab": {
          "base_uri": "https://localhost:8080/",
          "height": 317
        },
        "outputId": "41bad398-4591-448c-c153-f849fa2d4a39"
      },
      "source": [
        "df2.plot.bar(x='year', y='count_storms')"
      ],
      "execution_count": null,
      "outputs": [
        {
          "output_type": "execute_result",
          "data": {
            "text/plain": [
              "<matplotlib.axes._subplots.AxesSubplot at 0x7f7632c936a0>"
            ]
          },
          "metadata": {
            "tags": []
          },
          "execution_count": 367
        },
        {
          "output_type": "display_data",
          "data": {
            "image/png": "[encoded data removed]",
            "text/plain": [
              "<Figure size 432x288 with 1 Axes>"
            ]
          },
          "metadata": {
            "tags": [],
            "needs_background": "light"
          }
        }
      ]
    },
    {
      "cell_type": "code",
      "metadata": {
        "id": "AFiDb-Uhxt99"
      },
      "source": [
        "# Question 3"
      ],
      "execution_count": null,
      "outputs": []
    },
    {
      "cell_type": "markdown",
      "metadata": {
        "id": "q8kuCdEux9lq"
      },
      "source": [
        "# 3. 2020 Election Polls\n",
        "\n",
        "You are on your own here. Here are some suggestions:\n",
        "\n",
        "* Identify and download the file you need from the web site\n",
        "* Store the file in a data frame\n",
        "* Answer the two questions"
      ]
    },
    {
      "cell_type": "code",
      "metadata": {
        "id": "99xpqR6jKGAL",
        "colab": {
          "base_uri": "https://localhost:8080/",
          "height": 51
        },
        "outputId": "2e2c5e66-bf10-4fd9-bbc2-e9296dc2001d"
      },
      "source": [
        "import pandas as pd\n",
        "five38Url = 'https://projects.fivethirtyeight.com/polls-page/president_primary_polls.csv'\n",
        "df = pd.read_csv(five38Url)"
      ],
      "execution_count": null,
      "outputs": [
        {
          "output_type": "stream",
          "text": [
            "/usr/local/lib/python3.6/dist-packages/IPython/core/interactiveshell.py:2718: DtypeWarning: Columns (19) have mixed types.Specify dtype option on import or set low_memory=False.\n",
            "  interactivity=interactivity, compiler=compiler, result=result)\n"
          ],
          "name": "stderr"
        }
      ]
    },
    {
      "cell_type": "code",
      "metadata": {
        "id": "-se0znMkMbTg",
        "colab": {
          "base_uri": "https://localhost:8080/",
          "height": 694
        },
        "outputId": "b09194d6-207c-4914-a444-e0b9d4c07f1c"
      },
      "source": [
        "# used for looking at data\n",
        "df"
      ],
      "execution_count": null,
      "outputs": [
        {
          "output_type": "execute_result",
          "data": {
            "text/html": [
              "<div>\n",
              "<style scoped>\n",
              "    .dataframe tbody tr th:only-of-type {\n",
              "        vertical-align: middle;\n",
              "    }\n",
              "\n",
              "    .dataframe tbody tr th {\n",
              "        vertical-align: top;\n",
              "    }\n",
              "\n",
              "    .dataframe thead th {\n",
              "        text-align: right;\n",
              "    }\n",
              "</style>\n",
              "<table border=\"1\" class=\"dataframe\">\n",
              "  <thead>\n",
              "    <tr style=\"text-align: right;\">\n",
              "      <th></th>\n",
              "      <th>question_id</th>\n",
              "      <th>poll_id</th>\n",
              "      <th>cycle</th>\n",
              "      <th>state</th>\n",
              "      <th>pollster_id</th>\n",
              "      <th>pollster</th>\n",
              "      <th>sponsor_ids</th>\n",
              "      <th>sponsors</th>\n",
              "      <th>display_name</th>\n",
              "      <th>pollster_rating_id</th>\n",
              "      <th>pollster_rating_name</th>\n",
              "      <th>fte_grade</th>\n",
              "      <th>sample_size</th>\n",
              "      <th>population</th>\n",
              "      <th>population_full</th>\n",
              "      <th>methodology</th>\n",
              "      <th>office_type</th>\n",
              "      <th>start_date</th>\n",
              "      <th>end_date</th>\n",
              "      <th>sponsor_candidate</th>\n",
              "      <th>internal</th>\n",
              "      <th>partisan</th>\n",
              "      <th>tracking</th>\n",
              "      <th>nationwide_batch</th>\n",
              "      <th>created_at</th>\n",
              "      <th>notes</th>\n",
              "      <th>url</th>\n",
              "      <th>stage</th>\n",
              "      <th>party</th>\n",
              "      <th>answer</th>\n",
              "      <th>candidate_id</th>\n",
              "      <th>candidate_name</th>\n",
              "      <th>pct</th>\n",
              "    </tr>\n",
              "  </thead>\n",
              "  <tbody>\n",
              "    <tr>\n",
              "      <th>0</th>\n",
              "      <td>127126</td>\n",
              "      <td>67903</td>\n",
              "      <td>2020</td>\n",
              "      <td>NaN</td>\n",
              "      <td>552</td>\n",
              "      <td>Winston Group</td>\n",
              "      <td>NaN</td>\n",
              "      <td>NaN</td>\n",
              "      <td>Winston Group</td>\n",
              "      <td>385.0</td>\n",
              "      <td>Winston Group</td>\n",
              "      <td>B/C</td>\n",
              "      <td>NaN</td>\n",
              "      <td>rv</td>\n",
              "      <td>rv-d</td>\n",
              "      <td>Live Phone</td>\n",
              "      <td>U.S. President</td>\n",
              "      <td>4/27/20</td>\n",
              "      <td>4/28/20</td>\n",
              "      <td>NaN</td>\n",
              "      <td>False</td>\n",
              "      <td>NaN</td>\n",
              "      <td>False</td>\n",
              "      <td>False</td>\n",
              "      <td>8/4/20 17:22</td>\n",
              "      <td>NaN</td>\n",
              "      <td>https://www.winningtheissues.org/wp-content/up...</td>\n",
              "      <td>primary</td>\n",
              "      <td>DEM</td>\n",
              "      <td>Biden</td>\n",
              "      <td>13256</td>\n",
              "      <td>Joseph R. Biden Jr.</td>\n",
              "      <td>54.00</td>\n",
              "    </tr>\n",
              "    <tr>\n",
              "      <th>1</th>\n",
              "      <td>127126</td>\n",
              "      <td>67903</td>\n",
              "      <td>2020</td>\n",
              "      <td>NaN</td>\n",
              "      <td>552</td>\n",
              "      <td>Winston Group</td>\n",
              "      <td>NaN</td>\n",
              "      <td>NaN</td>\n",
              "      <td>Winston Group</td>\n",
              "      <td>385.0</td>\n",
              "      <td>Winston Group</td>\n",
              "      <td>B/C</td>\n",
              "      <td>NaN</td>\n",
              "      <td>rv</td>\n",
              "      <td>rv-d</td>\n",
              "      <td>Live Phone</td>\n",
              "      <td>U.S. President</td>\n",
              "      <td>4/27/20</td>\n",
              "      <td>4/28/20</td>\n",
              "      <td>NaN</td>\n",
              "      <td>False</td>\n",
              "      <td>NaN</td>\n",
              "      <td>False</td>\n",
              "      <td>False</td>\n",
              "      <td>8/4/20 17:22</td>\n",
              "      <td>NaN</td>\n",
              "      <td>https://www.winningtheissues.org/wp-content/up...</td>\n",
              "      <td>primary</td>\n",
              "      <td>DEM</td>\n",
              "      <td>Sanders</td>\n",
              "      <td>13257</td>\n",
              "      <td>Bernard Sanders</td>\n",
              "      <td>17.00</td>\n",
              "    </tr>\n",
              "    <tr>\n",
              "      <th>2</th>\n",
              "      <td>122156</td>\n",
              "      <td>65938</td>\n",
              "      <td>2020</td>\n",
              "      <td>NaN</td>\n",
              "      <td>1102</td>\n",
              "      <td>Emerson College</td>\n",
              "      <td>NaN</td>\n",
              "      <td>NaN</td>\n",
              "      <td>Emerson College</td>\n",
              "      <td>88.0</td>\n",
              "      <td>Emerson College</td>\n",
              "      <td>A-</td>\n",
              "      <td>479.0</td>\n",
              "      <td>lv</td>\n",
              "      <td>lv-d</td>\n",
              "      <td>IVR/Online</td>\n",
              "      <td>U.S. President</td>\n",
              "      <td>4/26/20</td>\n",
              "      <td>4/28/20</td>\n",
              "      <td>NaN</td>\n",
              "      <td>False</td>\n",
              "      <td>NaN</td>\n",
              "      <td>False</td>\n",
              "      <td>False</td>\n",
              "      <td>4/28/20 19:01</td>\n",
              "      <td>NaN</td>\n",
              "      <td>https://emersonpolling.reportablenews.com/pr/a...</td>\n",
              "      <td>primary</td>\n",
              "      <td>DEM</td>\n",
              "      <td>Biden</td>\n",
              "      <td>13256</td>\n",
              "      <td>Joseph R. Biden Jr.</td>\n",
              "      <td>67.98</td>\n",
              "    </tr>\n",
              "    <tr>\n",
              "      <th>3</th>\n",
              "      <td>122156</td>\n",
              "      <td>65938</td>\n",
              "      <td>2020</td>\n",
              "      <td>NaN</td>\n",
              "      <td>1102</td>\n",
              "      <td>Emerson College</td>\n",
              "      <td>NaN</td>\n",
              "      <td>NaN</td>\n",
              "      <td>Emerson College</td>\n",
              "      <td>88.0</td>\n",
              "      <td>Emerson College</td>\n",
              "      <td>A-</td>\n",
              "      <td>479.0</td>\n",
              "      <td>lv</td>\n",
              "      <td>lv-d</td>\n",
              "      <td>IVR/Online</td>\n",
              "      <td>U.S. President</td>\n",
              "      <td>4/26/20</td>\n",
              "      <td>4/28/20</td>\n",
              "      <td>NaN</td>\n",
              "      <td>False</td>\n",
              "      <td>NaN</td>\n",
              "      <td>False</td>\n",
              "      <td>False</td>\n",
              "      <td>4/28/20 19:01</td>\n",
              "      <td>NaN</td>\n",
              "      <td>https://emersonpolling.reportablenews.com/pr/a...</td>\n",
              "      <td>primary</td>\n",
              "      <td>DEM</td>\n",
              "      <td>Sanders</td>\n",
              "      <td>13257</td>\n",
              "      <td>Bernard Sanders</td>\n",
              "      <td>23.66</td>\n",
              "    </tr>\n",
              "    <tr>\n",
              "      <th>4</th>\n",
              "      <td>121552</td>\n",
              "      <td>65756</td>\n",
              "      <td>2020</td>\n",
              "      <td>NaN</td>\n",
              "      <td>568</td>\n",
              "      <td>YouGov</td>\n",
              "      <td>352</td>\n",
              "      <td>Economist</td>\n",
              "      <td>YouGov</td>\n",
              "      <td>391.0</td>\n",
              "      <td>YouGov</td>\n",
              "      <td>B</td>\n",
              "      <td>585.0</td>\n",
              "      <td>lv</td>\n",
              "      <td>lv-d</td>\n",
              "      <td>Online</td>\n",
              "      <td>U.S. President</td>\n",
              "      <td>4/12/20</td>\n",
              "      <td>4/14/20</td>\n",
              "      <td>NaN</td>\n",
              "      <td>False</td>\n",
              "      <td>NaN</td>\n",
              "      <td>False</td>\n",
              "      <td>False</td>\n",
              "      <td>4/15/20 09:11</td>\n",
              "      <td>NaN</td>\n",
              "      <td>https://docs.cdn.yougov.com/6fdl23u606/econTab...</td>\n",
              "      <td>primary</td>\n",
              "      <td>DEM</td>\n",
              "      <td>Biden</td>\n",
              "      <td>13256</td>\n",
              "      <td>Joseph R. Biden Jr.</td>\n",
              "      <td>49.00</td>\n",
              "    </tr>\n",
              "    <tr>\n",
              "      <th>...</th>\n",
              "      <td>...</td>\n",
              "      <td>...</td>\n",
              "      <td>...</td>\n",
              "      <td>...</td>\n",
              "      <td>...</td>\n",
              "      <td>...</td>\n",
              "      <td>...</td>\n",
              "      <td>...</td>\n",
              "      <td>...</td>\n",
              "      <td>...</td>\n",
              "      <td>...</td>\n",
              "      <td>...</td>\n",
              "      <td>...</td>\n",
              "      <td>...</td>\n",
              "      <td>...</td>\n",
              "      <td>...</td>\n",
              "      <td>...</td>\n",
              "      <td>...</td>\n",
              "      <td>...</td>\n",
              "      <td>...</td>\n",
              "      <td>...</td>\n",
              "      <td>...</td>\n",
              "      <td>...</td>\n",
              "      <td>...</td>\n",
              "      <td>...</td>\n",
              "      <td>...</td>\n",
              "      <td>...</td>\n",
              "      <td>...</td>\n",
              "      <td>...</td>\n",
              "      <td>...</td>\n",
              "      <td>...</td>\n",
              "      <td>...</td>\n",
              "      <td>...</td>\n",
              "    </tr>\n",
              "    <tr>\n",
              "      <th>18774</th>\n",
              "      <td>92392</td>\n",
              "      <td>57184</td>\n",
              "      <td>2020</td>\n",
              "      <td>NaN</td>\n",
              "      <td>1416</td>\n",
              "      <td>Harris Insights &amp; Analytics</td>\n",
              "      <td>960</td>\n",
              "      <td>Hill.TV</td>\n",
              "      <td>HarrisX</td>\n",
              "      <td>133.0</td>\n",
              "      <td>Harris Insights &amp; Analytics</td>\n",
              "      <td>C</td>\n",
              "      <td>370.0</td>\n",
              "      <td>rv</td>\n",
              "      <td>rv-d</td>\n",
              "      <td>Online</td>\n",
              "      <td>U.S. President</td>\n",
              "      <td>11/5/18</td>\n",
              "      <td>11/6/18</td>\n",
              "      <td>NaN</td>\n",
              "      <td>False</td>\n",
              "      <td>NaN</td>\n",
              "      <td>False</td>\n",
              "      <td>False</td>\n",
              "      <td>12/27/18 03:50</td>\n",
              "      <td>NaN</td>\n",
              "      <td>https://thehill.com/hilltv/what-americas-think...</td>\n",
              "      <td>primary</td>\n",
              "      <td>DEM</td>\n",
              "      <td>Sanders</td>\n",
              "      <td>13257</td>\n",
              "      <td>Bernard Sanders</td>\n",
              "      <td>20.00</td>\n",
              "    </tr>\n",
              "    <tr>\n",
              "      <th>18775</th>\n",
              "      <td>92392</td>\n",
              "      <td>57184</td>\n",
              "      <td>2020</td>\n",
              "      <td>NaN</td>\n",
              "      <td>1416</td>\n",
              "      <td>Harris Insights &amp; Analytics</td>\n",
              "      <td>960</td>\n",
              "      <td>Hill.TV</td>\n",
              "      <td>HarrisX</td>\n",
              "      <td>133.0</td>\n",
              "      <td>Harris Insights &amp; Analytics</td>\n",
              "      <td>C</td>\n",
              "      <td>370.0</td>\n",
              "      <td>rv</td>\n",
              "      <td>rv-d</td>\n",
              "      <td>Online</td>\n",
              "      <td>U.S. President</td>\n",
              "      <td>11/5/18</td>\n",
              "      <td>11/6/18</td>\n",
              "      <td>NaN</td>\n",
              "      <td>False</td>\n",
              "      <td>NaN</td>\n",
              "      <td>False</td>\n",
              "      <td>False</td>\n",
              "      <td>12/27/18 03:50</td>\n",
              "      <td>NaN</td>\n",
              "      <td>https://thehill.com/hilltv/what-americas-think...</td>\n",
              "      <td>primary</td>\n",
              "      <td>DEM</td>\n",
              "      <td>Booker</td>\n",
              "      <td>13287</td>\n",
              "      <td>Cory A. Booker</td>\n",
              "      <td>5.00</td>\n",
              "    </tr>\n",
              "    <tr>\n",
              "      <th>18776</th>\n",
              "      <td>92392</td>\n",
              "      <td>57184</td>\n",
              "      <td>2020</td>\n",
              "      <td>NaN</td>\n",
              "      <td>1416</td>\n",
              "      <td>Harris Insights &amp; Analytics</td>\n",
              "      <td>960</td>\n",
              "      <td>Hill.TV</td>\n",
              "      <td>HarrisX</td>\n",
              "      <td>133.0</td>\n",
              "      <td>Harris Insights &amp; Analytics</td>\n",
              "      <td>C</td>\n",
              "      <td>370.0</td>\n",
              "      <td>rv</td>\n",
              "      <td>rv-d</td>\n",
              "      <td>Online</td>\n",
              "      <td>U.S. President</td>\n",
              "      <td>11/5/18</td>\n",
              "      <td>11/6/18</td>\n",
              "      <td>NaN</td>\n",
              "      <td>False</td>\n",
              "      <td>NaN</td>\n",
              "      <td>False</td>\n",
              "      <td>False</td>\n",
              "      <td>12/27/18 03:50</td>\n",
              "      <td>NaN</td>\n",
              "      <td>https://thehill.com/hilltv/what-americas-think...</td>\n",
              "      <td>primary</td>\n",
              "      <td>DEM</td>\n",
              "      <td>Harris</td>\n",
              "      <td>13288</td>\n",
              "      <td>Kamala D. Harris</td>\n",
              "      <td>5.00</td>\n",
              "    </tr>\n",
              "    <tr>\n",
              "      <th>18777</th>\n",
              "      <td>92392</td>\n",
              "      <td>57184</td>\n",
              "      <td>2020</td>\n",
              "      <td>NaN</td>\n",
              "      <td>1416</td>\n",
              "      <td>Harris Insights &amp; Analytics</td>\n",
              "      <td>960</td>\n",
              "      <td>Hill.TV</td>\n",
              "      <td>HarrisX</td>\n",
              "      <td>133.0</td>\n",
              "      <td>Harris Insights &amp; Analytics</td>\n",
              "      <td>C</td>\n",
              "      <td>370.0</td>\n",
              "      <td>rv</td>\n",
              "      <td>rv-d</td>\n",
              "      <td>Online</td>\n",
              "      <td>U.S. President</td>\n",
              "      <td>11/5/18</td>\n",
              "      <td>11/6/18</td>\n",
              "      <td>NaN</td>\n",
              "      <td>False</td>\n",
              "      <td>NaN</td>\n",
              "      <td>False</td>\n",
              "      <td>False</td>\n",
              "      <td>12/27/18 03:50</td>\n",
              "      <td>NaN</td>\n",
              "      <td>https://thehill.com/hilltv/what-americas-think...</td>\n",
              "      <td>primary</td>\n",
              "      <td>DEM</td>\n",
              "      <td>Bloomberg</td>\n",
              "      <td>13289</td>\n",
              "      <td>Michael Bloomberg</td>\n",
              "      <td>5.00</td>\n",
              "    </tr>\n",
              "    <tr>\n",
              "      <th>18778</th>\n",
              "      <td>92392</td>\n",
              "      <td>57184</td>\n",
              "      <td>2020</td>\n",
              "      <td>NaN</td>\n",
              "      <td>1416</td>\n",
              "      <td>Harris Insights &amp; Analytics</td>\n",
              "      <td>960</td>\n",
              "      <td>Hill.TV</td>\n",
              "      <td>HarrisX</td>\n",
              "      <td>133.0</td>\n",
              "      <td>Harris Insights &amp; Analytics</td>\n",
              "      <td>C</td>\n",
              "      <td>370.0</td>\n",
              "      <td>rv</td>\n",
              "      <td>rv-d</td>\n",
              "      <td>Online</td>\n",
              "      <td>U.S. President</td>\n",
              "      <td>11/5/18</td>\n",
              "      <td>11/6/18</td>\n",
              "      <td>NaN</td>\n",
              "      <td>False</td>\n",
              "      <td>NaN</td>\n",
              "      <td>False</td>\n",
              "      <td>False</td>\n",
              "      <td>12/27/18 03:50</td>\n",
              "      <td>NaN</td>\n",
              "      <td>https://thehill.com/hilltv/what-americas-think...</td>\n",
              "      <td>primary</td>\n",
              "      <td>DEM</td>\n",
              "      <td>Clinton</td>\n",
              "      <td>13290</td>\n",
              "      <td>Hillary Rodham Clinton</td>\n",
              "      <td>16.00</td>\n",
              "    </tr>\n",
              "  </tbody>\n",
              "</table>\n",
              "<p>18779 rows × 33 columns</p>\n",
              "</div>"
            ],
            "text/plain": [
              "       question_id  poll_id  cycle  ... candidate_id          candidate_name    pct\n",
              "0           127126    67903   2020  ...        13256     Joseph R. Biden Jr.  54.00\n",
              "1           127126    67903   2020  ...        13257         Bernard Sanders  17.00\n",
              "2           122156    65938   2020  ...        13256     Joseph R. Biden Jr.  67.98\n",
              "3           122156    65938   2020  ...        13257         Bernard Sanders  23.66\n",
              "4           121552    65756   2020  ...        13256     Joseph R. Biden Jr.  49.00\n",
              "...            ...      ...    ...  ...          ...                     ...    ...\n",
              "18774        92392    57184   2020  ...        13257         Bernard Sanders  20.00\n",
              "18775        92392    57184   2020  ...        13287          Cory A. Booker   5.00\n",
              "18776        92392    57184   2020  ...        13288        Kamala D. Harris   5.00\n",
              "18777        92392    57184   2020  ...        13289       Michael Bloomberg   5.00\n",
              "18778        92392    57184   2020  ...        13290  Hillary Rodham Clinton  16.00\n",
              "\n",
              "[18779 rows x 33 columns]"
            ]
          },
          "metadata": {
            "tags": []
          },
          "execution_count": 354
        }
      ]
    },
    {
      "cell_type": "markdown",
      "metadata": {
        "id": "AMxBZD7yL6VW"
      },
      "source": [
        "### Question 1\n",
        "Using the unique() function to get all unique data from candidate_name column returns an array of each candidate. Using len() results in 79 unique candidates in the latest poll"
      ]
    },
    {
      "cell_type": "code",
      "metadata": {
        "id": "V5ASE48rLwUV",
        "colab": {
          "base_uri": "https://localhost:8080/",
          "height": 34
        },
        "outputId": "5a278d56-a8ac-4d3f-d02b-c9dfa627fbb8"
      },
      "source": [
        "len(df['candidate_name'].unique())"
      ],
      "execution_count": null,
      "outputs": [
        {
          "output_type": "execute_result",
          "data": {
            "text/plain": [
              "79"
            ]
          },
          "metadata": {
            "tags": []
          },
          "execution_count": 355
        }
      ]
    },
    {
      "cell_type": "markdown",
      "metadata": {
        "id": "cstOSf7DMM3-"
      },
      "source": [
        "### Question 2\n",
        "From the 18,779 different polls, there was an average sample size of:"
      ]
    },
    {
      "cell_type": "code",
      "metadata": {
        "id": "KFWfhziKMO-w",
        "colab": {
          "base_uri": "https://localhost:8080/",
          "height": 34
        },
        "outputId": "ac2f971e-b02e-4050-90d3-4da2ec7331fc"
      },
      "source": [
        "df['sample_size'].mean()"
      ],
      "execution_count": null,
      "outputs": [
        {
          "output_type": "execute_result",
          "data": {
            "text/plain": [
              "1594.0069626693803"
            ]
          },
          "metadata": {
            "tags": []
          },
          "execution_count": 356
        }
      ]
    }
  ]
}
